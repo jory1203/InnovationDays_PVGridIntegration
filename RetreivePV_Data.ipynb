{
 "cells": [
  {
   "cell_type": "code",
   "execution_count": 0,
   "metadata": {
    "application/vnd.databricks.v1+cell": {
     "cellMetadata": {
      "byteLimit": 2048000,
      "rowLimit": 10000
     },
     "inputWidgets": {},
     "nuid": "8fa7a13e-b5ba-470a-9120-dd5e83e8e786",
     "showTitle": false,
     "tableResultSettingsMap": {},
     "title": ""
    }
   },
   "outputs": [],
   "source": [
    "import pandas as pd\n",
    "import os\n",
    "from azure.storage.blob import BlobServiceClient"
   ]
  },
  {
   "cell_type": "code",
   "execution_count": 0,
   "metadata": {
    "application/vnd.databricks.v1+cell": {
     "cellMetadata": {
      "byteLimit": 2048000,
      "rowLimit": 10000
     },
     "inputWidgets": {},
     "nuid": "0acb0a7c-edcf-4d8e-9f70-5d24378ef2be",
     "showTitle": false,
     "tableResultSettingsMap": {},
     "title": ""
    }
   },
   "outputs": [],
   "source": [
    "def get_data_from_blob_storage(folder_name, blob_name, connection_string):\n",
    "    \"\"\"\n",
    "    Liest eine Datei aus einem bestimmten Ordner im Azure Blob Storage und gibt den Inhalt als DataFrame zurück.\n",
    "\n",
    "    Args:\n",
    "        folder_name (str): Name des Ordners im Blob Storage.\n",
    "        blob_name (str): Name der Datei im Blob Storage.\n",
    "\n",
    "    Returns:\n",
    "        pd.DataFrame: Inhalt der Datei als DataFrame.\n",
    "    \"\"\"\n",
    "    # Establish connection to the Azure Blob Storage account\n",
    "    blob_service_client = BlobServiceClient.from_connection_string(connection_string)\n",
    "\n",
    "    # Access the container\n",
    "    container_name = \"source-data\"\n",
    "    container_client = blob_service_client.get_container_client(container_name)\n",
    "\n",
    "    # Build the full path to the blob within the folder\n",
    "    blob_path = f\"{folder_name}/{blob_name}\"\n",
    "\n",
    "    # Download the file\n",
    "    blob_client = container_client.get_blob_client(blob_path)\n",
    "\n",
    "    # Use a temporary file to download the blob\n",
    "    temp_file_path = blob_name \n",
    "    with open(temp_file_path, \"wb\") as download_file:\n",
    "        download_file.write(blob_client.download_blob().readall())\n",
    "\n",
    "    # Load the file into a DataFrame depending on its extension\n",
    "    if temp_file_path.lower().endswith(\".parquet\"):\n",
    "        df = pd.read_parquet(temp_file_path)\n",
    "    elif temp_file_path.lower().endswith(\".csv\"):\n",
    "        df = pd.read_csv(temp_file_path, sep=\";\")\n",
    "    else:\n",
    "        raise ValueError(\"Unsupported file format. Only .parquet and .csv are supported.\")\n",
    "\n",
    "    # Remove the temporary file if needed\n",
    "    os.remove(temp_file_path)\n",
    "\n",
    "    return df\n",
    "\n",
    "\n",
    "def prepare_data(df):\n",
    "    df.rename(columns={\"datum\":\"datetime\",\"Überschuss\":\"feed_in:kWh\", \"Produktion\": \"production:kWh\", \"Eigenverbrauch\": \"self-consumption:kWh\",\n",
    "                        \"PLZ\":\"zip_code\", \"Ort\":\"city\", \"PanelPeakLeistung\": \"panel_peak_power:kWp\", \"Ausrichtung\": \"orientation\", \"Anstellwinkel\": \"tilt:deg\",\n",
    "                        \"Ausrichtung_Grad\": \"orientation:deg\",  'Installierte, nominale Speicherkapazität (kWh)': \"battery_capacity:kWh\",\n",
    "                        \"Kategorie\":\"category\"},inplace=True)\n",
    "    df.drop(columns=[\"date\"],inplace=True)\n",
    "    return df"
   ]
  },
  {
   "cell_type": "code",
   "execution_count": 0,
   "metadata": {
    "application/vnd.databricks.v1+cell": {
     "cellMetadata": {
      "byteLimit": 2048000,
      "rowLimit": 10000
     },
     "inputWidgets": {},
     "nuid": "363cc799-a2cb-486b-a80d-523c6a239787",
     "showTitle": false,
     "tableResultSettingsMap": {},
     "title": ""
    }
   },
   "outputs": [],
   "source": [
    "connection_string = \"\""
   ]
  },
  {
   "cell_type": "code",
   "execution_count": 0,
   "metadata": {
    "application/vnd.databricks.v1+cell": {
     "cellMetadata": {
      "byteLimit": 2048000,
      "rowLimit": 10000
     },
     "inputWidgets": {},
     "nuid": "175dfcdc-8c44-4380-8ec8-ff01039ff43f",
     "showTitle": false,
     "tableResultSettingsMap": {},
     "title": ""
    }
   },
   "outputs": [],
   "source": [
    "df_PV = get_data_from_blob_storage(\"Innovation_Days\", \"data_inno_days.parquet\", connection_string)\n",
    "df_PV = prepare_data(df_PV)"
   ]
  }
 ],
 "metadata": {
  "application/vnd.databricks.v1+notebook": {
   "computePreferences": null,
   "dashboards": [],
   "environmentMetadata": null,
   "inputWidgetPreferences": null,
   "language": "python",
   "notebookMetadata": {
    "pythonIndentUnit": 4
   },
   "notebookName": "RetreivePV_Data",
   "widgets": {}
  },
  "kernelspec": {
   "display_name": "Python 3",
   "language": "python",
   "name": "python3"
  },
  "language_info": {
   "name": "python"
  }
 },
 "nbformat": 4,
 "nbformat_minor": 0
}
